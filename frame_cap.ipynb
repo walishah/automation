{
 "cells": [
  {
   "cell_type": "code",
   "execution_count": null,
   "metadata": {},
   "outputs": [],
   "source": [
    "import cv2\n",
    "\n",
    "#please enter the frame interval here\n",
    "frame_interval = 5\n",
    "\n",
    "# Opens the Video file\n",
    "cap= cv2.VideoCapture(r'C:\\Users\\PC1\\Desktop\\new_data_21\\a.mp4')\n",
    "i=0\n",
    "while(cap.isOpened()):\n",
    "    ret, frame = cap.read()\n",
    "    if ret == False:\n",
    "        break\n",
    "    a = i% frame_interval\n",
    "    if a==0:      \n",
    "        cv2.imwrite('C:/Users/PC1/Desktop/vv/imga'+str(i) + '.jpg',frame)\n",
    "    i+=1\n",
    "cap.release()\n",
    "cv2.destroyAllWindows()"
   ]
  },
  {
   "cell_type": "code",
   "execution_count": null,
   "metadata": {},
   "outputs": [],
   "source": []
  }
 ],
 "metadata": {
  "kernelspec": {
   "display_name": "Python 3",
   "language": "python",
   "name": "python3"
  },
  "language_info": {
   "codemirror_mode": {
    "name": "ipython",
    "version": 3
   },
   "file_extension": ".py",
   "mimetype": "text/x-python",
   "name": "python",
   "nbconvert_exporter": "python",
   "pygments_lexer": "ipython3",
   "version": "3.8.3"
  }
 },
 "nbformat": 4,
 "nbformat_minor": 4
}
